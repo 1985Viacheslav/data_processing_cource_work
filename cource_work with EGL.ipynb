{
 "cells": [
  {
   "cell_type": "markdown",
   "metadata": {
    "id": "P2VwVZnyXbvF"
   },
   "source": [
    "# Курсовая работа на тему активного обучения.\n",
    "\n",
    "Активное обучение (active learning) — это метод машинного обучения, в котором алгоритм активно отбирает наиболее информативные данные для разметки и обучения модели. В традиционном подходе к машинному обучению модель обучается на заранее размеченных данных. В активном обучении модель имеет возможность влиять на процесс выбора данных, чтобы повысить свою эффективность и точность, особенно при ограниченных ресурсах для разметки данных.\n",
    "\n",
    "Основные аспекты активного обучения:\n",
    "Выборка данных с наибольшей неопределенностью:\n",
    "\n",
    "Модель анализирует неразмеченные данные и выбирает те примеры, на которых она делает наименее уверенные предсказания. Такие примеры содержат больше информации для улучшения модели.\n",
    "\n",
    "Информативность данных:\n",
    "\n",
    "Вместо случайного выбора данных для разметки и обучения, активное обучение фокусируется на наиболее информативных данных, что позволяет более эффективно использовать доступные ресурсы.\n",
    "\n",
    "Интерактивный процесс:\n",
    "\n",
    "Алгоритм активного обучения итеративно выбирает новые данные, добавляет их к обучающему набору и переобучает модель. Этот процесс повторяется до достижения желаемого уровня точности модели.\n",
    "\n"
   ]
  },
  {
   "cell_type": "markdown",
   "metadata": {
    "id": "4vLQBFaRXbvG"
   },
   "source": [
    "# Целевая модель - ResNet-18\n",
    "В качестве целевой модели выбрана модель ResNet-18\n",
    "ResNet-18 (Residual Network-18) — это архитектура нейронной сети, предназначенная для задач распознавания изображений и других задач компьютерного зрения.\n",
    "ResNet-18 состоит из 18 слоев с обучаемыми параметрами.\n",
    "Используются остаточные блоки (residual blocks), каждый из которых состоит из двух слоев сверточных нейронов и skip connection, которая добавляет входные данные блока к его выходу.\n"
   ]
  },
  {
   "cell_type": "markdown",
   "metadata": {
    "id": "J98IHV-wXbvG"
   },
   "source": [
    "# Датасет - Fashion MNIST\n",
    "Для реализации работы взят датасет Fashion MNIST\n",
    "Основные характеристики Fashion MNIST:\n",
    "Размер изображений: 28x28 пикселей.\n",
    "Количество классов: 10 классов (например, футболка, брюки, пальто и т.д.).\n",
    "Тип изображений: Градации серого (черно-белые)\n",
    "\n",
    "https://www.kaggle.com/datasets/zalando-research/fashionmnist\n",
    "*В качестве основного датасета для работы взята выборка train, с которой производились дальнейшие операции"
   ]
  },
  {
   "cell_type": "markdown",
   "metadata": {
    "id": "vejgvlDwXbvH"
   },
   "source": [
    "# 1. В качестве первого алгоритма активного обучения выбран алгоритм BALD\n",
    "Алгоритм активного обучения BALD (Batch Active Learning by Diverse Sampling) предназначен для выбора наиболее полезных примеров для обучения модели. Основная идея заключается в том, чтобы выбирать примеры, которые наиболее разнообразны и информативны, чтобы улучшить обучение модели.\n",
    "\n",
    "Основные принципы алгоритма BALD:\n",
    "\n",
    "Инициализация: Начинается с небольшого набора примеров.\n",
    "\n",
    "Оценка разнообразия: Для каждого неразмеченного примера вычисляется мера разнообразия, которая показывает, насколько он отличается от уже выбранных примеров.\n",
    "\n",
    "Оценка информативности: Для каждого неразмеченного примера вычисляется мера информативности, которая показывает, насколько он поможет улучшить модель.\n",
    "\n",
    "Выбор примеров: Выбираются примеры с наивысшими значениями разнообразия и информативности.\n",
    "\n",
    "Обновление модели: Новые примеры добавляются в обучающий набор, и модель обновляется.\n",
    "\n",
    "Этот процесс повторяется до достижения желаемого уровня точности или ограничения по количеству доступных примеров."
   ]
  },
  {
   "cell_type": "markdown",
   "metadata": {
    "id": "3TTM_otZXbvH"
   },
   "source": [
    "# 2. В качестве второго алгоритма активного обучения выбран алгоритм Least Confidence\n",
    "Least Confidence Sampling (LCS) — это один из методов активного обучения, который помогает выбирать наиболее полезные примеры для аннотации и обучения модели. Основная идея заключается в том, чтобы выбирать примеры, для которых модель наименее уверена в своих предсказаниях.\n",
    "\n",
    "Основные шаги Least Confidence Sampling:\n",
    "Предсказание: Модель делает предсказания для всех неразмеченных примеров в наборе данных.\n",
    "\n",
    "Оценка уверенности: Для каждого примера рассчитывается уровень уверенности модели в своем предсказании. Это обычно делается путем оценки вероятности наиболее вероятного класса.\n",
    "\n",
    "Выбор примеров: Выбираются примеры с наименьшим уровнем уверенности, то есть те, для которых модель наименее уверена в своем предсказании.\n",
    "\n",
    "Аннотация и обновление модели: Выбранные примеры аннотируются и добавляются в обучающий набор, модель обновляется."
   ]
  },
  {
   "attachments": {
    "image.png": {
     "image/png": "[encoded data removed]"
    }
   },
   "cell_type": "markdown",
   "metadata": {},
   "source": [
    "# 3. В качестве третьего алгоритма был выбран алгоритм EGL \n",
    "\n",
    "Для сравнения был применен алгоритм EGL. За счет вычисления градиентов занимает значительно больше времени, чем остальные   \n",
    " ![image.png](attachment:image.png)"
   ]
  },
  {
   "cell_type": "markdown",
   "metadata": {
    "id": "HxCodYToXbvH"
   },
   "source": [
    "# 1. Подготовка"
   ]
  },
  {
   "cell_type": "markdown",
   "metadata": {
    "id": "6FjlL8fOXbvH"
   },
   "source": [
    "## Импорт необходимых библиотек"
   ]
  },
  {
   "cell_type": "code",
   "execution_count": 10,
   "metadata": {
    "ExecuteTime": {
     "end_time": "2024-11-11T21:20:23.989512Z",
     "start_time": "2024-11-11T21:20:15.065316Z"
    },
    "id": "0Kj3Qrl_XbvH"
   },
   "outputs": [],
   "source": [
    "import pandas as pd  # Импортируем библиотеку pandas для работы с данными в формате DataFrame\n",
    "import numpy as np  # Импортируем библиотеку numpy для работы с массивами и числовыми операциями\n",
    "import torch  # Импортируем библиотеку PyTorch для работы с тензорами и построения нейронных сетей\n",
    "import random  # Импортируем модуль random для работы с случайными значениями\n",
    "from torch import nn, optim  # Импортируем модули nn и optim из библиотеки torch для построения нейронных сетей и оптимизации\n",
    "from torch.utils.data import Dataset, DataLoader, Subset  # Импортируем классы Dataset, DataLoader и Subset из библиотеки torch для работы с данными\n",
    "from torchvision import models  # Импортируем модуль models из библиотеки torchvision для работы с предобученными моделями\n",
    "from sklearn.model_selection import train_test_split  # Импортируем функцию train_test_split из библиотеки sklearn для разбиения данных на обучающую и тестовую выборки\n",
    "from sklearn.metrics import f1_score  # Импортируем функцию f1_score из библиотеки sklearn для расчета метрики F1\n",
    "from scipy.spatial.distance import cdist  # Импортируем функцию cdist из библиотеки scipy для вычисления расстояний между точками в многомерном пространстве\n",
    "from sklearn.metrics import f1_score\n"
   ]
  },
  {
   "cell_type": "markdown",
   "metadata": {
    "id": "9toCcz09XbvI"
   },
   "source": [
    "## Загрузка датасета и разделение выборки на обучающую и тестовую"
   ]
  },
  {
   "cell_type": "code",
   "execution_count": 11,
   "metadata": {
    "ExecuteTime": {
     "end_time": "2024-11-11T21:20:26.911378Z",
     "start_time": "2024-11-11T21:20:23.999516Z"
    },
    "id": "ApC_TQJGXbvI"
   },
   "outputs": [],
   "source": [
    "# Чтение данных из CSV файла\n",
    "data = pd.read_csv('Fashion-MNIST_dataset.csv')  # Загружаем датасет MNIST из файла CSV в DataFrame\n",
    "\n",
    "# Разделение данных на признаки (X) и метки (y)\n",
    "X = data.drop(columns=['label']).values  # Удаляем столбец 'label' и получаем значения признаков\n",
    "y = data['label'].values  # Извлекаем значения меток\n",
    "\n",
    "# Разделение данных на обучающую и тестовую выборки\n",
    "X_train, X_test, y_train, y_test = train_test_split(X, y, test_size=0.2, random_state=42)\n",
    "# Используем функцию train_test_split для разбиения данных:\n",
    "# X_train, y_train - обучающие данные и метки\n",
    "# X_test, y_test - тестовые данные и метки\n",
    "# test_size=0.2 - 20% данных выделяем для тестовой выборки, 80% данных для обучения\n",
    "# random_state=42 - фиксируем случайное состояние для воспроизводимости результата\n"
   ]
  },
  {
   "cell_type": "markdown",
   "metadata": {
    "id": "L0dhN8fIXbvI"
   },
   "source": [
    "# Создание и подготовка данных для обучения и тестирования"
   ]
  },
  {
   "cell_type": "code",
   "execution_count": 12,
   "metadata": {
    "ExecuteTime": {
     "end_time": "2024-11-11T21:20:27.239004Z",
     "start_time": "2024-11-11T21:20:27.229131Z"
    },
    "id": "t8tUdV89XbvJ"
   },
   "outputs": [],
   "source": [
    "# Определяем класс MNISTDataset, наследующий от класса Dataset PyTorch\n",
    "class MNISTDataset(Dataset):\n",
    "    def __init__(self, images, labels=None):\n",
    "        self.images = images  # Инициализируем изображения\n",
    "        self.labels = labels  # Инициализируем метки\n",
    "\n",
    "    def __len__(self):\n",
    "        return len(self.images)  # Возвращаем количество изображений в датасете\n",
    "\n",
    "    def __getitem__(self, idx):\n",
    "        image = self.images[idx]  # Извлекаем изображение по индексу\n",
    "        image = np.stack([image.reshape(28, 28)] * 3, axis=-1)  # Преобразуем изображение в формат 3-х каналов (RGB)\n",
    "        image = torch.tensor(image, dtype=torch.float32).permute(2, 0, 1)  # Преобразуем изображение в тензор и переставляем оси для PyTorch\n",
    "        image = image / 255  # Нормализуем изображение (приводим значения к диапазону [0, 1])\n",
    "\n",
    "        label = self.labels[idx]  # Извлекаем метку по индексу\n",
    "        return image, label  # Возвращаем пару (изображение, метка)\n",
    "\n",
    "# Создаем экземпляры датасетов для обучающей и тестовой выборок\n",
    "train_dataset = MNISTDataset(X_train, y_train)  # Обучающий датасет\n",
    "test_dataset = MNISTDataset(X_test, y_test)  # Тестовый датасет\n",
    "\n",
    "# Создаем загрузчики данных для обучения и тестирования\n",
    "train_loader = DataLoader(train_dataset, batch_size=128, shuffle=True)  # Загрузчик данных для обучения с размером батча 128 и перемешиванием данных\n",
    "test_loader = DataLoader(test_dataset, batch_size=128, shuffle=False)  # Загрузчик данных для тестирования с размером батча 128 без перемешивания данных\n"
   ]
  },
  {
   "cell_type": "markdown",
   "metadata": {
    "id": "xHecAQSHXbvJ"
   },
   "source": [
    "## Обучение модели на всём датасете"
   ]
  },
  {
   "cell_type": "code",
   "execution_count": 13,
   "metadata": {
    "ExecuteTime": {
     "end_time": "2024-11-11T21:20:27.319478Z",
     "start_time": "2024-11-11T21:20:27.253010Z"
    },
    "id": "DW5PVA3xXbvJ"
   },
   "outputs": [],
   "source": [
    "# Определяем устройство для вычислений: используем GPU (cuda), если доступно, иначе используем CPU\n",
    "device = torch.device(\"cuda\" if torch.cuda.is_available() else \"cpu\")\n",
    "\n",
    "def train_model(train_loader, num_epochs=10):\n",
    "    # Загружаем предобученную модель ResNet-18\n",
    "    model = models.resnet18(weights=models.ResNet18_Weights.DEFAULT)\n",
    "\n",
    "    # Заменяем последний полносвязный слой на новый, соответствующий нашему числу классов (10 для MNIST)\n",
    "    model.fc = nn.Linear(model.fc.in_features, 10)\n",
    "\n",
    "    # Переносим модель на выбранное устройство (GPU или CPU)\n",
    "    model = model.to(device)\n",
    "\n",
    "    # Определяем функцию потерь (кросс-энтропия) и оптимизатор (Adam)\n",
    "    criterion = nn.CrossEntropyLoss()\n",
    "    optimizer = optim.Adam(model.parameters(), lr=0.001)\n",
    "\n",
    "    # Устанавливаем модель в режим обучения\n",
    "    model.train()\n",
    "\n",
    "    # Основной цикл обучения\n",
    "    for _ in range(num_epochs):\n",
    "        running_loss = 0  # Инициализируем переменную для накопления потерь\n",
    "\n",
    "        # Проходим по всем батчам данных в загрузчике данных\n",
    "        for images, labels in train_loader:\n",
    "            # Переносим изображения и метки на выбранное устройство\n",
    "            images, labels = images.to(device), labels.to(device)\n",
    "\n",
    "            # Пропускаем изображения через модель и получаем предсказания\n",
    "            outputs = model(images)\n",
    "\n",
    "            # Вычисляем потерю (ошибку) между предсказаниями и реальными метками\n",
    "            loss = criterion(outputs, labels)\n",
    "\n",
    "            # Обнуляем градиенты\n",
    "            optimizer.zero_grad()\n",
    "\n",
    "            # Выполняем обратное распространение ошибки для вычисления градиентов\n",
    "            loss.backward()\n",
    "\n",
    "            # Обновляем параметры модели с помощью оптимизатора\n",
    "            optimizer.step()\n",
    "\n",
    "            # Накопление значения потерь\n",
    "            running_loss += loss.item()\n",
    "\n",
    "    return model  # Возвращаем обученную модель\n"
   ]
  },
  {
   "cell_type": "code",
   "execution_count": 14,
   "metadata": {
    "ExecuteTime": {
     "end_time": "2024-11-11T21:21:28.249612Z",
     "start_time": "2024-11-11T21:20:27.334453Z"
    },
    "id": "l5JH7wEiXbvJ"
   },
   "outputs": [
    {
     "name": "stderr",
     "output_type": "stream",
     "text": [
      "Downloading: \"https://download.pytorch.org/models/resnet18-f37072fd.pth\" to C:\\Users\\User/.cache\\torch\\hub\\checkpoints\\resnet18-f37072fd.pth\n",
      "100.0%\n"
     ]
    }
   ],
   "source": [
    "# Обучаем модель с использованием функции train_model\n",
    "target_model = train_model(train_loader, 10)\n",
    "# Вызываем функцию train_model для обучения модели\n",
    "# Передаем обучающий загрузчик данных (train_loader)\n",
    "# Устанавливаем количество эпох обучения (10)\n",
    "# Результатом работы функции train_model является обученная модель (target_model)\n"
   ]
  },
  {
   "cell_type": "code",
   "execution_count": 15,
   "metadata": {
    "id": "O0uYJsYoE0Xv"
   },
   "outputs": [],
   "source": [
    "torch.save(target_model.state_dict(), 'model.pth')"
   ]
  },
  {
   "cell_type": "markdown",
   "metadata": {
    "id": "qlceBiiFXbvJ"
   },
   "source": [
    "# Тестирования модели и вычисление F1-метрики:"
   ]
  },
  {
   "cell_type": "code",
   "execution_count": 16,
   "metadata": {
    "ExecuteTime": {
     "end_time": "2024-11-11T21:21:28.280408Z",
     "start_time": "2024-11-11T21:21:28.276848Z"
    },
    "id": "hFIwt7bOXbvJ"
   },
   "outputs": [],
   "source": [
    "def test_model(model, test_loader):\n",
    "    model.eval()  # Переводим модель в режим оценки (evaluation)\n",
    "    all_preds = []  # Инициализируем список для хранения всех предсказаний\n",
    "    all_labels = []  # Инициализируем список для хранения всех истинных меток\n",
    "\n",
    "    with torch.no_grad():  # Отключаем вычисление градиентов для ускорения и экономии памяти\n",
    "        for images, labels in test_loader:  # Проходим по батчам данных в загрузчике тестовых данных\n",
    "            images = images.to(device)  # Переносим изображения на устройство (CPU или GPU)\n",
    "            labels = labels.to(device)  # Переносим метки на устройство (CPU или GPU)\n",
    "\n",
    "            outputs = model(images)  # Пропускаем изображения через модель и получаем предсказания\n",
    "            _, preds = torch.max(outputs, 1)  # Определяем класс с наибольшей вероятностью для каждого изображения\n",
    "\n",
    "            all_preds.extend(preds.cpu().numpy())  # Добавляем предсказания в список и переводим их на CPU\n",
    "            all_labels.extend(labels.cpu().numpy())  # Добавляем истинные метки в список и переводим их на CPU\n",
    "\n",
    "    f1 = f1_score(all_labels, all_preds, average='weighted')  # Вычисляем F1-метрику с учетом веса классов\n",
    "    return f1  # Возвращаем значение F1-метрики\n"
   ]
  },
  {
   "cell_type": "code",
   "execution_count": 17,
   "metadata": {
    "ExecuteTime": {
     "end_time": "2024-11-11T21:21:29.024719Z",
     "start_time": "2024-11-11T21:21:28.318911Z"
    },
    "colab": {
     "base_uri": "https://localhost:8080/"
    },
    "id": "kcWDAD8fXbvK",
    "outputId": "14add201-0db2-4bbe-f0a2-ef04d06b1402"
   },
   "outputs": [
    {
     "name": "stdout",
     "output_type": "stream",
     "text": [
      "F1-метрика для полной выборки: 0.9253823084021362\n"
     ]
    }
   ],
   "source": [
    "# Запускаем тестирование модели target_model на тестовой выборке\n",
    "f1_target_model = test_model(target_model, test_loader)\n",
    "\n",
    "# Выводим результат\n",
    "print(f'F1-метрика для полной выборки: {f1_target_model}')\n"
   ]
  },
  {
   "cell_type": "markdown",
   "metadata": {
    "id": "vOvtSs_sXbvK"
   },
   "source": [
    "## Создание подвыборок и обучение модели на них"
   ]
  },
  {
   "cell_type": "code",
   "execution_count": 18,
   "metadata": {
    "ExecuteTime": {
     "end_time": "2024-11-11T21:21:39.236276Z",
     "start_time": "2024-11-11T21:21:29.042302Z"
    },
    "id": "Wg5bY_snXbvK"
   },
   "outputs": [],
   "source": [
    "# Инициализируем пустой словарь для хранения обученных моделей\n",
    "models_dict = {}\n",
    "\n",
    "# Функция для создания подмножества датасета\n",
    "def create_subset(dataset, fraction=1):\n",
    "    dataset_size = len(dataset)  # Получаем размер датасета\n",
    "    subset_size = int(dataset_size * fraction)  # Вычисляем размер подмножества на основе заданной доли\n",
    "    indices = random.sample(range(dataset_size), subset_size)  # Случайным образом выбираем индексы для подмножества\n",
    "    return Subset(dataset, indices)  # Возвращаем подмножество датасета\n",
    "\n",
    "# Проходим по разным значениям долей данных\n",
    "for fraction in [0.01, 0.1, 0.2]:\n",
    "    # Создаем подмножество обучающего датасета с заданной долей данных\n",
    "    new_train_dataset = create_subset(train_dataset, fraction)\n",
    "    # Создаем загрузчик данных для нового обучающего подмножества\n",
    "    new_train_loader = DataLoader(new_train_dataset, batch_size=128, shuffle=True)\n",
    "    # Обучаем модель на новом обучающем подмножестве в течение 5 эпох и сохраняем в словарь\n",
    "    models_dict[f'{int(fraction*100)}%'] = train_model(new_train_loader, 5)\n",
    "\n",
    "# Добавляем полную обученную модель в словарь с ключом \"100%\"\n",
    "models_dict[\"100%\"] = target_model\n"
   ]
  },
  {
   "cell_type": "markdown",
   "metadata": {
    "id": "qXNLCW31XbvK"
   },
   "source": [
    "## Теститрование полученных моделей"
   ]
  },
  {
   "cell_type": "code",
   "execution_count": 19,
   "metadata": {
    "ExecuteTime": {
     "end_time": "2024-11-11T21:21:52.033666Z",
     "start_time": "2024-11-11T21:21:39.266711Z"
    },
    "colab": {
     "base_uri": "https://localhost:8080/"
    },
    "id": "T9Z41S3aXbvK",
    "outputId": "1c09afc1-3608-495a-e0b8-48b67b940c40"
   },
   "outputs": [
    {
     "name": "stdout",
     "output_type": "stream",
     "text": [
      "Размер выборки\tF1-метрика\n",
      "1%\t\t0.762\n",
      "10%\t\t0.832\n",
      "20%\t\t0.872\n",
      "100%\t\t0.925\n"
     ]
    }
   ],
   "source": [
    "# Функция для тестирования модели\n",
    "def test_model(model, test_loader):\n",
    "    model.eval()  # Переводим модель в режим оценки\n",
    "    f1 = 0  # Инициализируем переменную для накопления F1-метрик\n",
    "\n",
    "    for _ in range(5):  # Проводим оценку модели 5 раз для получения усредненного результата\n",
    "        all_preds = []  # Список для хранения всех предсказанных меток\n",
    "        all_labels = []  # Список для хранения всех истинных меток\n",
    "\n",
    "        with torch.no_grad():  # Отключаем вычисление градиентов для экономии памяти и ускорения\n",
    "            for images, labels in test_loader:\n",
    "                images, labels = images.to(device), labels.to(device)  # Переносим изображения и метки на устройство\n",
    "                outputs = model(images)  # Пропускаем изображения через модель для получения предсказаний\n",
    "                _, predicted = torch.max(outputs, 1)  # Извлекаем предсказанные метки\n",
    "\n",
    "                all_preds.extend(predicted.cpu().numpy())  # Добавляем предсказанные метки в список\n",
    "                all_labels.extend(labels.cpu().numpy())  # Добавляем истинные метки в список\n",
    "\n",
    "        # Вычисляем F1-метрику для текущей итерации и добавляем к общей F1\n",
    "        f1 += f1_score(all_labels, all_preds, average='weighted')\n",
    "    f1 = round(f1 / 5, 3)  # Усредняем F1-метрику по 5 итерациям и округляем до 3 знаков после запятой\n",
    "    return f1  # Возвращаем усредненную F1-метрику\n",
    "\n",
    "# Выводим заголовок для таблицы результатов\n",
    "print(\"Размер выборки\\tF1-метрика\")\n",
    "\n",
    "# Проходим по всем моделям в словаре models_dict\n",
    "for fraction, model in models_dict.items():\n",
    "    f1 = test_model(model, test_loader)  # Тестируем модель и получаем F1-метрику\n",
    "    print(f'{fraction}\\t\\t{f1}')  # Выводим долю обучающей выборки и соответствующую F1-метрику\n"
   ]
  },
  {
   "cell_type": "markdown",
   "metadata": {
    "id": "kjBySfuUXbvL"
   },
   "source": [
    "# 2. Активное обучение"
   ]
  },
  {
   "cell_type": "markdown",
   "metadata": {
    "id": "TzV8UsfuXbvL"
   },
   "source": [
    "*Загрузка данных и подготовка датасета для активного обучения*\n"
   ]
  },
  {
   "cell_type": "code",
   "execution_count": 20,
   "metadata": {
    "ExecuteTime": {
     "end_time": "2024-11-11T21:21:55.586508Z",
     "start_time": "2024-11-11T21:21:52.062441Z"
    },
    "id": "5wIdjXIOXbvL"
   },
   "outputs": [],
   "source": [
    "# Загрузка датасета Fashion MNIST\n",
    "data = pd.read_csv('Fashion-MNIST_dataset.csv')\n",
    "\n",
    "# Разделение данных на признаки (X) и метки (y)\n",
    "X = data.drop(columns=['label']).values\n",
    "y = data['label'].values\n",
    "\n",
    "# Разделение на обучающую и тестовую выборки\n",
    "X_train_full, X_test, y_train_full, y_test = train_test_split(\n",
    "    X, y, test_size=0.2, random_state=42)\n",
    "\n",
    "# Создание класса датасета для PyTorch\n",
    "class MNISTDataset(Dataset):\n",
    "    def __init__(self, images, labels=None):\n",
    "        self.images = images\n",
    "        self.labels = labels\n",
    "\n",
    "    def __len__(self):\n",
    "        return len(self.images)\n",
    "\n",
    "    def __getitem__(self, idx):\n",
    "        # Получаем изображение по индексу\n",
    "        image = self.images[idx]\n",
    "        # Преобразуем изображение в формат 3 канала (RGB)\n",
    "        image = np.stack([image.reshape(28, 28)] * 3, axis=-1)\n",
    "        # Преобразуем изображение в тензор и переставляем оси\n",
    "        image = torch.tensor(image, dtype=torch.float32).permute(2, 0, 1)\n",
    "        # Нормализуем изображение\n",
    "        image = image / 255.0\n",
    "\n",
    "        if self.labels is not None:\n",
    "            # Если метки доступны, возвращаем пару (изображение, метка)\n",
    "            label = self.labels[idx]\n",
    "            return image, label\n",
    "        else:\n",
    "            # Если метки недоступны (неразмеченные данные), возвращаем только изображение\n",
    "            return image\n",
    "\n",
    "# Создаем полный обучающий датасет (неразмеченные данные)\n",
    "unlabeled_dataset = MNISTDataset(X_train_full)\n",
    "\n",
    "# Создаем тестовый датасет\n",
    "test_dataset = MNISTDataset(X_test, y_test)\n",
    "\n",
    "# Создаем загрузчик данных для тестового датасета\n",
    "test_loader = DataLoader(test_dataset, batch_size=128, shuffle=False)\n"
   ]
  },
  {
   "cell_type": "markdown",
   "metadata": {
    "id": "AIQhtg99XbvL"
   },
   "source": [
    "*Определение устройства и функций для инициализации, обучения и тестирования модели*"
   ]
  },
  {
   "cell_type": "code",
   "execution_count": 21,
   "metadata": {
    "ExecuteTime": {
     "end_time": "2024-11-11T21:21:55.602481Z",
     "start_time": "2024-11-11T21:21:55.593517Z"
    },
    "id": "xbo1DzdaXbvL"
   },
   "outputs": [],
   "source": [
    "# Определяем устройство для вычислений (GPU или CPU)\n",
    "device = torch.device(\"cuda\" if torch.cuda.is_available() else \"cpu\")\n",
    "\n",
    "# Функция для инициализации модели ResNet-18\n",
    "def initialize_model():\n",
    "    # Загружаем предобученную модель ResNet-18\n",
    "    model = models.resnet18(weights=models.ResNet18_Weights.DEFAULT)\n",
    "    # Заменяем последний слой на новый с числом классов 10\n",
    "    model.fc = nn.Linear(model.fc.in_features, 10)\n",
    "    # Переносим модель на выбранное устройство\n",
    "    model = model.to(device)\n",
    "    return model\n",
    "\n",
    "# Функция для обучения модели\n",
    "def train_model(model, train_loader, num_epochs=5):\n",
    "    # Определяем функцию потерь и оптимизатор\n",
    "    criterion = nn.CrossEntropyLoss()\n",
    "    optimizer = optim.Adam(model.parameters(), lr=0.001)\n",
    "    # Устанавливаем модель в режим обучения\n",
    "    model.train()\n",
    "\n",
    "    for epoch in range(num_epochs):\n",
    "        running_loss = 0.0\n",
    "        # Проходим по всем батчам данных\n",
    "        for images, labels in train_loader:\n",
    "            # Переносим данные на устройство\n",
    "            images, labels = images.to(device), labels.to(device)\n",
    "            # Обнуляем градиенты\n",
    "            optimizer.zero_grad()\n",
    "            # Получаем предсказания модели\n",
    "            outputs = model(images)\n",
    "            # Вычисляем функцию потерь\n",
    "            loss = criterion(outputs, labels)\n",
    "            # Выполняем обратное распространение ошибки\n",
    "            loss.backward()\n",
    "            # Обновляем параметры модели\n",
    "            optimizer.step()\n",
    "            # Накопление потерь\n",
    "            running_loss += loss.item()\n",
    "    return model\n",
    "\n",
    "# Функция для тестирования модели и вычисления F1-метрики\n",
    "def test_model(model, test_loader):\n",
    "    model.eval()\n",
    "    all_preds = []\n",
    "    all_labels = []\n",
    "\n",
    "    with torch.no_grad():\n",
    "        # Проходим по всем батчам тестовых данных\n",
    "        for images, labels in test_loader:\n",
    "            images = images.to(device)\n",
    "            outputs = model(images)\n",
    "            # Получаем предсказанные классы\n",
    "            _, preds = torch.max(outputs, 1)\n",
    "            # Сохраняем предсказания и истинные метки\n",
    "            all_preds.extend(preds.cpu().numpy())\n",
    "            all_labels.extend(labels.numpy())\n",
    "\n",
    "    # Вычисляем F1-метрику\n",
    "    f1 = f1_score(all_labels, all_preds, average='weighted')\n",
    "    return f1"
   ]
  },
  {
   "cell_type": "markdown",
   "metadata": {
    "id": "CRaX3IHIXbvL"
   },
   "source": [
    "*Реализация функций выборки для активного обучения*"
   ]
  },
  {
   "cell_type": "markdown",
   "metadata": {
    "id": "tNlrshPYXbvM"
   },
   "source": [
    "*Функция выборки по алгоритму BALD*"
   ]
  },
  {
   "cell_type": "code",
   "execution_count": 22,
   "metadata": {
    "ExecuteTime": {
     "end_time": "2024-11-11T21:21:55.663230Z",
     "start_time": "2024-11-11T21:21:55.657101Z"
    },
    "id": "zdvYUedqXbvM"
   },
   "outputs": [],
   "source": [
    "# Функция для выборки наиболее информативных данных по алгоритму BALD\n",
    "def bald_sampling(model, unlabeled_loader, sample_size):\n",
    "    model.eval()\n",
    "    uncertainties = []\n",
    "    indices = []\n",
    "\n",
    "    with torch.no_grad():\n",
    "        # Проходим по всем неразмеченным данным\n",
    "        for idx, images in enumerate(unlabeled_loader):\n",
    "            images = images.to(device)\n",
    "            outputs = model(images)\n",
    "            # Вычисляем вероятности классов с помощью softmax\n",
    "            probs = torch.softmax(outputs, dim=1)\n",
    "            # Вычисляем энтропию предсказаний для каждого образца\n",
    "            entropy = -torch.sum(probs * torch.log(probs + 1e-10), dim=1)\n",
    "            # Сохраняем значения энтропии\n",
    "            uncertainties.extend(entropy.cpu().numpy())\n",
    "            # Сохраняем индексы образцов\n",
    "            indices.extend(range(idx * unlabeled_loader.batch_size, (idx + 1) * unlabeled_loader.batch_size))\n",
    "\n",
    "    uncertainties = np.array(uncertainties)\n",
    "    # Выбираем индексы образцов с наибольшей неопределенностью\n",
    "    selected_indices = uncertainties.argsort()[-sample_size:]\n",
    "    selected_data_indices = [indices[i] for i in selected_indices]\n",
    "    return selected_data_indices\n"
   ]
  },
  {
   "cell_type": "markdown",
   "metadata": {
    "id": "SvVD3e2HXbvM"
   },
   "source": [
    "*Функция выборки по алгоритму Least Confidence*"
   ]
  },
  {
   "cell_type": "code",
   "execution_count": 23,
   "metadata": {
    "ExecuteTime": {
     "end_time": "2024-11-11T21:21:55.690871Z",
     "start_time": "2024-11-11T21:21:55.683731Z"
    },
    "id": "RQjRhoSEXbvM"
   },
   "outputs": [],
   "source": [
    "# Функция для выборки наиболее неуверенных предсказаний по алгоритму Least Confidence\n",
    "def least_confidence_sampling(model, unlabeled_loader, sample_size):\n",
    "    model.eval()\n",
    "    uncertainties = []\n",
    "    indices = []\n",
    "\n",
    "    with torch.no_grad():\n",
    "        # Проходим по всем неразмеченным данным\n",
    "        for idx, images in enumerate(unlabeled_loader):\n",
    "            images = images.to(device)\n",
    "            outputs = model(images)\n",
    "            # Вычисляем вероятности классов с помощью softmax\n",
    "            probs = torch.softmax(outputs, dim=1)\n",
    "            # Находим максимальную вероятность для каждого образца\n",
    "            max_probs, _ = torch.max(probs, dim=1)\n",
    "            # Вычисляем неопределенность как (1 - максимальная вероятность)\n",
    "            uncertainties.extend(1 - max_probs.cpu().numpy())\n",
    "            # Сохраняем индексы образцов\n",
    "            indices.extend(range(idx * unlabeled_loader.batch_size, (idx + 1) * unlabeled_loader.batch_size))\n",
    "\n",
    "    uncertainties = np.array(uncertainties)\n",
    "    # Выбираем индексы образцов с наибольшей неопределенностью\n",
    "    selected_indices = uncertainties.argsort()[-sample_size:]\n",
    "    selected_data_indices = [indices[i] for i in selected_indices]\n",
    "    return selected_data_indices\n"
   ]
  },
  {
   "cell_type": "markdown",
   "metadata": {},
   "source": [
    "*Функция выборки по алгоритму Expected Gradient Length (EGL)*"
   ]
  },
  {
   "cell_type": "code",
   "execution_count": 24,
   "metadata": {},
   "outputs": [],
   "source": [
    "# Функция для выборки наиболее информативных данных по алгоритму EGL\n",
    "def egl_sampling(model, unlabeled_loader, sample_size):\n",
    "    model.eval()\n",
    "    gradients = []\n",
    "    indices = []\n",
    "\n",
    "    for idx, images in enumerate(unlabeled_loader):\n",
    "        images = images.to(device)\n",
    "        images.requires_grad = True\n",
    "\n",
    "        outputs = model(images)\n",
    "        probs = torch.softmax(outputs, dim=1)\n",
    "\n",
    "        # Инициализируем суммирование градиентов\n",
    "        grad_sum = torch.zeros_like(images)\n",
    "\n",
    "        # Вычисляем градиенты\n",
    "        for i in range(outputs.shape[1]):\n",
    "            model.zero_grad()\n",
    "            # Усредняем вероятность по каждому классу\n",
    "            prob = probs[:, i].mean()\n",
    "            prob.backward(retain_graph=True)\n",
    "            grad_sum += images.grad.data.abs()\n",
    "\n",
    "        # Нормируем длины градиентов\n",
    "        grad_lengths = torch.norm(grad_sum.view(images.size(0), -1), dim=1)\n",
    "        gradients.extend(grad_lengths.cpu().numpy())\n",
    "        indices.extend(range(idx * unlabeled_loader.batch_size, (idx + 1) * unlabeled_loader.batch_size))\n",
    "\n",
    "    gradients = np.array(gradients)\n",
    "    selected_indices = gradients.argsort()[-sample_size:]\n",
    "    selected_data_indices = [indices[i] for i in selected_indices]\n",
    "    return selected_data_indices\n",
    "\n",
    "\n",
    "\n"
   ]
  },
  {
   "cell_type": "markdown",
   "metadata": {
    "id": "nTiR4DhFXbvM"
   },
   "source": [
    "*Цикл активного обучения*"
   ]
  },
  {
   "cell_type": "markdown",
   "metadata": {
    "id": "27ydPI6lXbvM"
   },
   "source": [
    "# Инициализация начального размеченного набора данных изложена в статье: https://habr.com/ru/articles/593615/"
   ]
  },
  {
   "cell_type": "code",
   "execution_count": 25,
   "metadata": {
    "ExecuteTime": {
     "end_time": "2024-11-11T21:27:04.508960Z",
     "start_time": "2024-11-11T21:22:14.174300Z"
    },
    "colab": {
     "base_uri": "https://localhost:8080/",
     "height": 356
    },
    "id": "JW1IVFX9XbvM",
    "outputId": "bd7d53a3-5e44-4c28-9ab5-0755f316ced8"
   },
   "outputs": [],
   "source": [
    "# Доли данных для экспериментов\n",
    "fractions = [0.01, 0.1, 0.2]\n",
    "\n",
    "# Словарь для хранения результатов\n",
    "results = {\n",
    "    'BALD': {},\n",
    "    'Least Confidence': {},\n",
    "    'EGL': {}\n",
    "}\n",
    "\n",
    "# Проходим по каждой доле данных\n",
    "for fraction in fractions:\n",
    "    # Инициализируем начальный размеченный набор (1% случайных данных)\n",
    "    initial_size = int(len(unlabeled_dataset) * 0.01)\n",
    "    labeled_indices = random.sample(range(len(unlabeled_dataset)), initial_size)\n",
    "    unlabeled_indices = list(set(range(len(unlabeled_dataset))) - set(labeled_indices))\n",
    "\n",
    "    # Создаем размеченный и неразмеченный датасеты\n",
    "    labeled_dataset = Subset(MNISTDataset(X_train_full, y_train_full), labeled_indices)\n",
    "    unlabeled_dataset_subset = Subset(MNISTDataset(X_train_full), unlabeled_indices)\n",
    "\n",
    "    # Создаем загрузчики данных\n",
    "    labeled_loader = DataLoader(labeled_dataset, batch_size=128, shuffle=True)\n",
    "    unlabeled_loader = DataLoader(unlabeled_dataset_subset, batch_size=128, shuffle=False)\n",
    "\n",
    "    # Количество выборок для добавления\n",
    "    total_acquisition = int(len(X_train_full) * fraction) - initial_size\n",
    "    acquisition_iterations = total_acquisition // initial_size\n",
    "\n",
    "    # --- Активное обучение с алгоритмом BALD ---\n",
    "    # Копируем списки индексов для BALD\n",
    "    bald_labeled_indices = labeled_indices.copy()\n",
    "    bald_unlabeled_indices = unlabeled_indices.copy()\n",
    "    # Инициализируем модель для BALD\n",
    "    bald_model = initialize_model()\n",
    "    # Обучаем модель на начальном размеченном наборе\n",
    "    bald_model = train_model(bald_model, labeled_loader, num_epochs=5)\n",
    "\n",
    "    for _ in range(acquisition_iterations):\n",
    "        # Создаем неразмеченный датасет для BALD\n",
    "        bald_unlabeled_dataset = Subset(MNISTDataset(X_train_full), bald_unlabeled_indices)\n",
    "        bald_unlabeled_loader = DataLoader(bald_unlabeled_dataset, batch_size=128, shuffle=False)\n",
    "        # Выбираем новые данные по алгоритму BALD\n",
    "        new_indices = bald_sampling(bald_model, bald_unlabeled_loader, initial_size)\n",
    "        new_data_indices = [bald_unlabeled_indices[i] for i in new_indices]\n",
    "        # Обновляем списки индексов\n",
    "        bald_labeled_indices.extend(new_data_indices)\n",
    "        bald_unlabeled_indices = list(set(bald_unlabeled_indices) - set(new_data_indices))\n",
    "        # Обновляем размеченный датасет и загрузчик\n",
    "        bald_labeled_dataset = Subset(MNISTDataset(X_train_full, y_train_full), bald_labeled_indices)\n",
    "        bald_labeled_loader = DataLoader(bald_labeled_dataset, batch_size=128, shuffle=True)\n",
    "        # Переобучаем модель на обновленном наборе данных\n",
    "        bald_model = train_model(bald_model, bald_labeled_loader, num_epochs=5)\n",
    "\n",
    "    # Тестируем модель и сохраняем F1-метрику\n",
    "    f1_bald = test_model(bald_model, test_loader)\n",
    "    results['BALD'][f'{int(fraction * 100)}%'] = f1_bald\n",
    "\n",
    "    # --- Активное обучение с алгоритмом Least Confidence ---\n",
    "    # Копируем списки индексов для Least Confidence\n",
    "    lc_labeled_indices = labeled_indices.copy()\n",
    "    lc_unlabeled_indices = unlabeled_indices.copy()\n",
    "    # Инициализируем модель для Least Confidence\n",
    "    lc_model = initialize_model()\n",
    "    # Обучаем модель на начальном размеченном наборе\n",
    "    lc_model = train_model(lc_model, labeled_loader, num_epochs=5)\n",
    "\n",
    "    for _ in range(acquisition_iterations):\n",
    "        # Создаем неразмеченный датасет для Least Confidence\n",
    "        lc_unlabeled_dataset = Subset(MNISTDataset(X_train_full), lc_unlabeled_indices)\n",
    "        lc_unlabeled_loader = DataLoader(lc_unlabeled_dataset, batch_size=128, shuffle=False)\n",
    "        # Выбираем новые данные по алгоритму Least Confidence\n",
    "        new_indices = least_confidence_sampling(lc_model, lc_unlabeled_loader, initial_size)\n",
    "        new_data_indices = [lc_unlabeled_indices[i] for i in new_indices]\n",
    "        # Обновляем списки индексов\n",
    "        lc_labeled_indices.extend(new_data_indices)\n",
    "        lc_unlabeled_indices = list(set(lc_unlabeled_indices) - set(new_data_indices))\n",
    "        # Обновляем размеченный датасет и загрузчик\n",
    "        lc_labeled_dataset = Subset(MNISTDataset(X_train_full, y_train_full), lc_labeled_indices)\n",
    "        lc_labeled_loader = DataLoader(lc_labeled_dataset, batch_size=128, shuffle=True)\n",
    "        # Переобучаем модель на обновленном наборе данных\n",
    "        lc_model = train_model(lc_model, lc_labeled_loader, num_epochs=5)\n",
    "\n",
    "    # Тестируем модель и сохраняем F1-метрику\n",
    "    f1_lc = test_model(lc_model, test_loader)\n",
    "    results['Least Confidence'][f'{int(fraction * 100)}%'] = f1_lc\n",
    "\n",
    "    # --- Активное обучение с алгоритмом EGL ---\n",
    "    # Копируем списки индексов для EGL\n",
    "    egl_labeled_indices = labeled_indices.copy()\n",
    "    egl_unlabeled_indices = unlabeled_indices.copy()\n",
    "    # Инициализируем модель для EGL\n",
    "    egl_model = initialize_model()\n",
    "    # Обучаем модель на начальном размеченном наборе\n",
    "    egl_model = train_model(egl_model, labeled_loader, num_epochs=5)\n",
    "\n",
    "    for _ in range(acquisition_iterations):\n",
    "        # Создаем неразмеченный датасет для EGL\n",
    "        egl_unlabeled_dataset = Subset(MNISTDataset(X_train_full), egl_unlabeled_indices)\n",
    "        egl_unlabeled_loader = DataLoader(egl_unlabeled_dataset, batch_size=128, shuffle=False)\n",
    "        # Выбираем новые данные по алгоритму EGL\n",
    "        new_indices = egl_sampling(egl_model, egl_unlabeled_loader, initial_size)\n",
    "        new_data_indices = [egl_unlabeled_indices[i] for i in new_indices]\n",
    "        # Обновляем списки индексов\n",
    "        egl_labeled_indices.extend(new_data_indices)\n",
    "        egl_unlabeled_indices = list(set(egl_unlabeled_indices) - set(new_data_indices))\n",
    "        # Обновляем размеченный датасет и загрузчик\n",
    "        egl_labeled_dataset = Subset(MNISTDataset(X_train_full, y_train_full), egl_labeled_indices)\n",
    "        egl_labeled_loader = DataLoader(egl_labeled_dataset, batch_size=128, shuffle=True)\n",
    "        # Переобучаем модель на обновленном наборе данных\n",
    "        egl_model = train_model(egl_model, egl_labeled_loader, num_epochs=5)\n",
    "\n",
    "    # Тестируем модель и сохраняем F1-метрику\n",
    "    f1_egl = test_model(egl_model, test_loader)\n",
    "    results['EGL'][f'{int(fraction * 100)}%'] = f1_egl\n",
    "\n"
   ]
  },
  {
   "cell_type": "markdown",
   "metadata": {},
   "source": [
    "# Результаты"
   ]
  },
  {
   "cell_type": "code",
   "execution_count": 26,
   "metadata": {
    "ExecuteTime": {
     "end_time": "2024-11-11T21:27:04.524367Z",
     "start_time": "2024-11-11T21:27:04.520964Z"
    },
    "colab": {
     "base_uri": "https://localhost:8080/",
     "height": 280
    },
    "id": "4Q4w2V5WXbvN",
    "outputId": "d2d903d2-6ce1-47dd-a9b3-c3b25ec4359e"
   },
   "outputs": [
    {
     "name": "stdout",
     "output_type": "stream",
     "text": [
      "\n",
      "BALD\n",
      "Размер выборки (%)\tКоличество элементов в выборке\tF1-метрика\n",
      "1%\t\t\t480\t\t\t\t0.722\n",
      "10%\t\t\t4800\t\t\t\t0.873\n",
      "20%\t\t\t9600\t\t\t\t0.906\n",
      "\n",
      "Least Confidence\n",
      "Размер выборки (%)\tКоличество элементов в выборке\tF1-метрика\n",
      "1%\t\t\t480\t\t\t\t0.706\n",
      "10%\t\t\t4800\t\t\t\t0.896\n",
      "20%\t\t\t9600\t\t\t\t0.884\n",
      "\n",
      "EGL\n",
      "Размер выборки (%)\tКоличество элементов в выборке\tF1-метрика\n",
      "1%\t\t\t480\t\t\t\t0.739\n",
      "10%\t\t\t4800\t\t\t\t0.886\n",
      "20%\t\t\t9600\t\t\t\t0.909\n"
     ]
    }
   ],
   "source": [
    "# Вывод результатов в виде таблицы для каждого алгоритма\n",
    "for method in ['BALD', 'Least Confidence', 'EGL']:\n",
    "    print(f\"\\n{method}\")\n",
    "    print(\"Размер выборки (%)\\tКоличество элементов в выборке\\tF1-метрика\")\n",
    "    for fraction in ['1%', '10%', '20%']:\n",
    "        sample_size = int(len(X_train_full) * (int(fraction.strip('%')) / 100))\n",
    "        f1_score_value = results[method][fraction]\n",
    "        print(f\"{fraction}\\t\\t\\t{sample_size}\\t\\t\\t\\t{f1_score_value:.3f}\")"
   ]
  },
  {
   "cell_type": "markdown",
   "metadata": {
    "id": "8vm0Y5r3XbvN"
   },
   "source": [
    "# 3. Анализ результата"
   ]
  },
  {
   "cell_type": "code",
   "execution_count": 29,
   "metadata": {
    "ExecuteTime": {
     "end_time": "2024-11-11T21:27:05.689672Z",
     "start_time": "2024-11-11T21:27:04.557816Z"
    },
    "id": "oAd4mXz-XbvN"
   },
   "outputs": [
    {
     "data": {
      "image/png": "[encoded data removed]",
      "text/plain": [
       "<Figure size 1000x600 with 1 Axes>"
      ]
     },
     "metadata": {},
     "output_type": "display_data"
    }
   ],
   "source": [
    "import matplotlib.pyplot as plt\n",
    "\n",
    "# Построение графиков F1-метрики для каждого алгоритма\n",
    "sample_sizes = [1, 10, 20]\n",
    "\n",
    "plt.figure(figsize=(10, 6))\n",
    "\n",
    "plt.plot(sample_sizes, [results['BALD'][f'{s}%'] for s in sample_sizes], marker='o', label='BALD')\n",
    "plt.plot(sample_sizes, [results['Least Confidence'][f'{s}%'] for s in sample_sizes], marker='o', label='Least Confidence')\n",
    "plt.plot(sample_sizes, [results['EGL'][f'{s}%'] for s in sample_sizes], marker='o', label='EGL')\n",
    "\n",
    "plt.title('Зависимость F1-метрики от размера выборки')\n",
    "plt.xlabel('Размер выборки (%)')\n",
    "plt.ylabel('F1-метрика')\n",
    "plt.legend()\n",
    "plt.grid(True)\n",
    "plt.show()"
   ]
  },
  {
   "cell_type": "markdown",
   "metadata": {
    "id": "P0pos63hXbvN"
   },
   "source": [
    "# Вывод\n",
    "\n",
    "Оба алгоритма активного обучения показали примерно одинаковую эффективность, которая превышает значения обучения для выборках для исходной модели. Обучение на 20% выборке данных сопоставима с результатами обучения исходной модели на 100% выборке. Алгоритм EGL не дал значительного прироста, хотя затратил кратно больше времени на работу\n"
   ]
  }
 ],
 "metadata": {
  "colab": {
   "provenance": []
  },
  "kernelspec": {
   "display_name": "Python 3",
   "language": "python",
   "name": "python3"
  },
  "language_info": {
   "codemirror_mode": {
    "name": "ipython",
    "version": 3
   },
   "file_extension": ".py",
   "mimetype": "text/x-python",
   "name": "python",
   "nbconvert_exporter": "python",
   "pygments_lexer": "ipython3",
   "version": "3.11.9"
  }
 },
 "nbformat": 4,
 "nbformat_minor": 0
}
